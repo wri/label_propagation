{
 "cells": [
  {
   "cell_type": "code",
   "execution_count": 1,
   "id": "da3ef2fb-4d21-4720-a6e5-214c3d46402e",
   "metadata": {},
   "outputs": [],
   "source": [
    "import pprint\n",
    "from datetime import datetime\n",
    "import pandas as pd\n",
    "import os\n",
    "import rasterio as rs\n",
    "from rasterio.features import shapes\n",
    "import geopandas as gpd\n",
    "import numpy as np\n",
    "from scipy.ndimage import label, sum as ndi_sum, minimum_filter, generate_binary_structure\n",
    "import subprocess\n",
    "import yaml\n",
    "from osgeo import gdal\n",
    "from osgeo import osr\n",
    "from osgeo import ogr\n",
    "from osgeo import gdalconst\n",
    "import sys\n",
    "from scipy import ndimage\n",
    "sys.path.append('../src/')\n",
    "# import prepare_rasters as pr\n",
    "import prepare_polys as pp\n",
    "import prepare_rasters as pr\n",
    "import prepare_polys_orig as preprocess\n",
    "\n",
    "%load_ext autoreload\n",
    "%autoreload 2"
   ]
  },
  {
   "cell_type": "markdown",
   "id": "e36906a8-cb40-413b-b2f9-825bedba769d",
   "metadata": {},
   "source": [
    "## Prototyping\n",
    "What are the input requirements?\n",
    "1. inputParams\n",
    "2. TTC - these look the same\n",
    "3. lulc 2016 - slightly differently sizes bc of method for resampling/reprj. no use of compression"
   ]
  },
  {
   "cell_type": "code",
   "execution_count": 18,
   "id": "54460519-2b6e-4ee6-84d5-55fd4bcc306b",
   "metadata": {},
   "outputs": [
    {
     "data": {
      "text/plain": [
       "((35683, 37670), (33372, 37119), (33372, 37119))"
      ]
     },
     "execution_count": 18,
     "metadata": {},
     "output_type": "execute_result"
    }
   ],
   "source": [
    "## quick comp of inputs (after preprocessing)\n",
    "j_lulc = rs.open('../data/costa_rica/interim/lulc_cr_reprj.tif').read(1)\n",
    "j_ttc = rs.open('../data/costa_rica/raw/CostaRica.tif').read(1)\n",
    "j_sdpt = rs.open('../data/costa_rica/interim/cri_sdpt_v2.tif').read(1)\n",
    "j_lulc.shape, j_ttc.shape, j_sdpt.shape"
   ]
  },
  {
   "cell_type": "code",
   "execution_count": 3,
   "id": "f4614f95-0771-4cf9-a83d-0b1ee93c743e",
   "metadata": {},
   "outputs": [
    {
     "name": "stdout",
     "output_type": "stream",
     "text": [
      "Creating output file that is 37119P x 33372L.\n",
      "Processing ../data/Input/lulc.tif [1/1] : 0Using internal nodata values (e.g. -1) for image ../data/Input/lulc.tif.\n",
      "Copying nodata values from source ../data/Input/lulc.tif to destination ../data/Input/lulc_reprj.tif.\n",
      "...10...20...30...40...50...60...70...80...90...100 - done.\n"
     ]
    }
   ],
   "source": [
    "preprocess.preprocess_datasets('../data/Input/lulc.tif')"
   ]
  },
  {
   "cell_type": "code",
   "execution_count": 26,
   "id": "5535209d-22a9-4a6e-9f99-f25eee6eb381",
   "metadata": {},
   "outputs": [
    {
     "data": {
      "text/plain": [
       "((33372, 37119), (33372, 37119))"
      ]
     },
     "execution_count": 26,
     "metadata": {},
     "output_type": "execute_result"
    }
   ],
   "source": [
    "e_lulc = rs.open('../data/Input/lulc_reprj.tif').read(1)\n",
    "e_ttc = rs.open('../data/Input/TTC.tif').read(1)\n",
    "e_lulc.shape, e_ttc.shape"
   ]
  },
  {
   "cell_type": "code",
   "execution_count": 28,
   "id": "cce5f899-2a9a-41d5-aa73-00eae158204b",
   "metadata": {},
   "outputs": [
    {
     "data": {
      "text/plain": [
       "2311"
      ]
     },
     "execution_count": 28,
     "metadata": {},
     "output_type": "execute_result"
    }
   ],
   "source": [
    "j_lulc.shape[0] - e_lulc.shape[0]"
   ]
  },
  {
   "cell_type": "code",
   "execution_count": 29,
   "id": "6c2d68ae-bf52-4197-ba5f-a17b2e2c3844",
   "metadata": {},
   "outputs": [
    {
     "data": {
      "text/plain": [
       "551"
      ]
     },
     "execution_count": 29,
     "metadata": {},
     "output_type": "execute_result"
    }
   ],
   "source": [
    "j_lulc.shape[1] - e_lulc.shape[1]"
   ]
  },
  {
   "cell_type": "code",
   "execution_count": 9,
   "id": "fda4fd74-2dca-45a8-8c57-3bbe0f37ce7e",
   "metadata": {},
   "outputs": [
    {
     "name": "stdout",
     "output_type": "stream",
     "text": [
      "Merging all high conf polygons...\n",
      "All polygons have been merged and saved to ../data/Output/Final/merged_polygons.shp\n",
      "Statistics saved to ../data/Output/Final/stats_jessica4.csv\n"
     ]
    }
   ],
   "source": [
    "pp.create_highconf_polygons(params_path='../data/Input/inputParams.csv',\n",
    "                            lulc_path = '../data/Input/lulc_reprj.tif',\n",
    "                            sdpt_path = '../data/costa_rica/interim/cri_sdpt_v2.tif', \n",
    "                            ttc_path = '../data/Input/TTC.tif'\n",
    "                           )"
   ]
  },
  {
   "cell_type": "code",
   "execution_count": 6,
   "id": "71a68408-04f2-4926-9731-6910a3aa2de0",
   "metadata": {},
   "outputs": [
    {
     "data": {
      "text/html": [
       "<div>\n",
       "<style scoped>\n",
       "    .dataframe tbody tr th:only-of-type {\n",
       "        vertical-align: middle;\n",
       "    }\n",
       "\n",
       "    .dataframe tbody tr th {\n",
       "        vertical-align: top;\n",
       "    }\n",
       "\n",
       "    .dataframe thead th {\n",
       "        text-align: right;\n",
       "    }\n",
       "</style>\n",
       "<table border=\"1\" class=\"dataframe\">\n",
       "  <thead>\n",
       "    <tr style=\"text-align: right;\">\n",
       "      <th></th>\n",
       "      <th>raster_val</th>\n",
       "      <th>geometry</th>\n",
       "    </tr>\n",
       "  </thead>\n",
       "  <tbody>\n",
       "    <tr>\n",
       "      <th>0</th>\n",
       "      <td>1.0</td>\n",
       "      <td>POLYGON ((-84.33506 10.15646, -84.33497 10.156...</td>\n",
       "    </tr>\n",
       "    <tr>\n",
       "      <th>1</th>\n",
       "      <td>1.0</td>\n",
       "      <td>POLYGON ((-84.33497 10.15637, -84.33488 10.156...</td>\n",
       "    </tr>\n",
       "    <tr>\n",
       "      <th>2</th>\n",
       "      <td>1.0</td>\n",
       "      <td>POLYGON ((-84.33506 10.15619, -84.33497 10.156...</td>\n",
       "    </tr>\n",
       "    <tr>\n",
       "      <th>3</th>\n",
       "      <td>1.0</td>\n",
       "      <td>POLYGON ((-84.33305 10.15512, -84.33296 10.155...</td>\n",
       "    </tr>\n",
       "    <tr>\n",
       "      <th>4</th>\n",
       "      <td>1.0</td>\n",
       "      <td>POLYGON ((-84.33159 10.15314, -84.33150 10.153...</td>\n",
       "    </tr>\n",
       "    <tr>\n",
       "      <th>...</th>\n",
       "      <td>...</td>\n",
       "      <td>...</td>\n",
       "    </tr>\n",
       "    <tr>\n",
       "      <th>240</th>\n",
       "      <td>1.0</td>\n",
       "      <td>POLYGON ((-82.89391 8.77387, -82.89382 8.77387...</td>\n",
       "    </tr>\n",
       "    <tr>\n",
       "      <th>241</th>\n",
       "      <td>1.0</td>\n",
       "      <td>POLYGON ((-82.89492 8.77333, -82.89482 8.77333...</td>\n",
       "    </tr>\n",
       "    <tr>\n",
       "      <th>242</th>\n",
       "      <td>1.0</td>\n",
       "      <td>POLYGON ((-82.89437 8.77459, -82.89419 8.77459...</td>\n",
       "    </tr>\n",
       "    <tr>\n",
       "      <th>243</th>\n",
       "      <td>1.0</td>\n",
       "      <td>POLYGON ((-82.89501 8.77324, -82.89492 8.77324...</td>\n",
       "    </tr>\n",
       "    <tr>\n",
       "      <th>244</th>\n",
       "      <td>1.0</td>\n",
       "      <td>POLYGON ((-82.89546 8.77324, -82.89537 8.77324...</td>\n",
       "    </tr>\n",
       "  </tbody>\n",
       "</table>\n",
       "<p>245 rows × 2 columns</p>\n",
       "</div>"
      ],
      "text/plain": [
       "     raster_val                                           geometry\n",
       "0           1.0  POLYGON ((-84.33506 10.15646, -84.33497 10.156...\n",
       "1           1.0  POLYGON ((-84.33497 10.15637, -84.33488 10.156...\n",
       "2           1.0  POLYGON ((-84.33506 10.15619, -84.33497 10.156...\n",
       "3           1.0  POLYGON ((-84.33305 10.15512, -84.33296 10.155...\n",
       "4           1.0  POLYGON ((-84.33159 10.15314, -84.33150 10.153...\n",
       "..          ...                                                ...\n",
       "240         1.0  POLYGON ((-82.89391 8.77387, -82.89382 8.77387...\n",
       "241         1.0  POLYGON ((-82.89492 8.77333, -82.89482 8.77333...\n",
       "242         1.0  POLYGON ((-82.89437 8.77459, -82.89419 8.77459...\n",
       "243         1.0  POLYGON ((-82.89501 8.77324, -82.89492 8.77324...\n",
       "244         1.0  POLYGON ((-82.89546 8.77324, -82.89537 8.77324...\n",
       "\n",
       "[245 rows x 2 columns]"
      ]
     },
     "execution_count": 6,
     "metadata": {},
     "output_type": "execute_result"
    }
   ],
   "source": [
    "af_poly = gpd.read_file('../data/Output/Intermediate/Poly/Agro_Coffee.shp')\n",
    "af_poly"
   ]
  },
  {
   "cell_type": "code",
   "execution_count": null,
   "id": "a44a9912-fcb2-432c-8482-4cfc4c7fe499",
   "metadata": {},
   "outputs": [],
   "source": [
    "# get the starting shape of the AF raster\n",
    "# and the count of polygons\n",
    "af_raster = rs.open('../data/Output/Intermediate/Rasters/Agro_Coffee.tif').read(1)\n",
    "af_poly = gpd.read_file('../data/Output/Intermediate/Poly/Agro_Coffee.shp')\n",
    "af_raster.shape, af_poly.shape"
   ]
  },
  {
   "cell_type": "code",
   "execution_count": 34,
   "id": "b88b375a-2a81-48c1-83ee-2b5feed5b3c0",
   "metadata": {},
   "outputs": [
    {
     "data": {
      "text/plain": [
       "(array([0, 1], dtype=uint8), array([1238688044,      47224]))"
      ]
     },
     "execution_count": 34,
     "metadata": {},
     "output_type": "execute_result"
    }
   ],
   "source": [
    "# we know af raster is comprised of 1s and 0s\n",
    "np.unique(af_raster, return_counts=True)"
   ]
  },
  {
   "cell_type": "code",
   "execution_count": 41,
   "id": "f2e0e61b-e4b3-4546-bf89-08dfd209a230",
   "metadata": {},
   "outputs": [],
   "source": [
    "# now label and get count for each label\n",
    "labeled_array, num_features = ndimage.label(af_raster)"
   ]
  },
  {
   "cell_type": "code",
   "execution_count": 42,
   "id": "6e797fef-514f-4c03-954f-20bf8d2a4c97",
   "metadata": {},
   "outputs": [
    {
     "name": "stderr",
     "output_type": "stream",
     "text": [
      "\n",
      "KeyboardInterrupt\n",
      "\n"
     ]
    }
   ],
   "source": [
    "# get pixel count for each label\n",
    "label_size = [(labeled_array == label).sum() for label in range(num_features + 1)]"
   ]
  },
  {
   "cell_type": "code",
   "execution_count": null,
   "id": "7af4801e-b0b8-4513-81c4-3249e3ad3df3",
   "metadata": {},
   "outputs": [],
   "source": [
    "label_size"
   ]
  },
  {
   "cell_type": "code",
   "execution_count": null,
   "id": "28403914-1f1e-41a5-aa3e-b81db46b23eb",
   "metadata": {},
   "outputs": [],
   "source": [
    "thresh = 196"
   ]
  },
  {
   "cell_type": "code",
   "execution_count": null,
   "id": "f775b482-7a17-459f-8d5a-480fc7ec9d7b",
   "metadata": {},
   "outputs": [],
   "source": [
    "for label,size in enumerate(label_size):\n",
    "    if size < thresh:\n",
    "        arr[labeled_array == label] = 0"
   ]
  },
  {
   "cell_type": "code",
   "execution_count": null,
   "id": "55f59bf7-a839-4c3c-9244-b6ff3db5ef07",
   "metadata": {},
   "outputs": [],
   "source": [
    "    filtered_image = image * mask\n",
    "\n",
    "    results = (\n",
    "        {'properties': {'raster_val': v}, 'geometry': s}\n",
    "        for i, (s, v) in enumerate(shapes(filtered_image,\n",
    "                                        mask=filtered_image, \n",
    "                                        transform=src.transform))\n",
    "                                        )\n",
    "\n",
    "    geoms = list(results)\n",
    "    if geoms:\n",
    "        gdf = gpd.GeoDataFrame.from_features(geoms)\n",
    "        gdf.crs = crs  # set the CRS for the GeoDataFrame\n",
    "        gdf.to_file(os.path.join(output_folder, filename.replace('.tif', '.shp')))"
   ]
  },
  {
   "cell_type": "code",
   "execution_count": null,
   "id": "aae9eddb-fea4-481f-993d-1a7401164390",
   "metadata": {},
   "outputs": [],
   "source": []
  },
  {
   "cell_type": "code",
   "execution_count": null,
   "id": "3f0d1776-27a6-421c-a876-43cebea0014e",
   "metadata": {},
   "outputs": [],
   "source": []
  },
  {
   "cell_type": "markdown",
   "id": "a757ff1f-66b5-448d-a6f2-641da93ec791",
   "metadata": {},
   "source": [
    "# connected component analysis"
   ]
  },
  {
   "cell_type": "code",
   "execution_count": 4,
   "id": "3986f321-919e-420e-9875-51679f1ecc21",
   "metadata": {},
   "outputs": [],
   "source": [
    "def label_components(category,\n",
    "                     min_size=196,\n",
    "                     input_folder =  '../data/Output/Intermediate/Rasters/',\n",
    "                     output_folder = '../data/Output/Intermediate/Poly/'):\n",
    "    \"\"\"\n",
    "    Convert raster files to polygons, only including areas with a \n",
    "    minimum number of connected pixels.\n",
    "    Diagonal connections are not considered.\n",
    "\n",
    "    :param min_size: Minimum number of connected pixels to be included\n",
    "    :return: None\n",
    "    \"\"\"\n",
    "    with rs.open(input_folder + f\"{category}.tif\") as src:\n",
    "        image = src.read(1)  \n",
    "        crs = src.crs  \n",
    "        out_meta = src.meta.copy() \n",
    "        out_meta.update({'compress':'lzw'})\n",
    "\n",
    "       # Label connected components\n",
    "        structure = generate_binary_structure(2, 2)\n",
    "        labeled, _ = label(image, structure=structure) # label connected components in the raster.\n",
    "        sizes = ndi_sum(image, labeled, range(labeled.max() + 1)) #calculate the size of the components\n",
    "        mask = np.isin(labeled, np.where(sizes > min_size)[0]) # create a mask to filter out components less than min size\n",
    "\n",
    "        filtered_image = image * mask\n",
    "\n",
    "    # save min filtered for comparison\n",
    "    with rs.open(input_folder + f\"{category}_cca_test2.tif\",'w',**out_meta, BIGTIFF='YES') as dst:\n",
    "        dst.write(filtered_image, indexes=1)\n",
    "        \n",
    "        # results = (\n",
    "        #     {'properties': {'raster_val': v}, 'geometry': s}\n",
    "        #     for i, (s, v) in enumerate(shapes(filtered_image,\n",
    "        #                                     mask=filtered_image, \n",
    "        #                                     transform=src.transform))\n",
    "        #                                     )\n",
    "        # geoms = list(results)\n",
    "        # gdf = gpd.GeoDataFrame.from_features(geoms)\n",
    "        # gdf.crs = crs  # set the CRS for the GeoDataFrame\n",
    "        # gdf.to_file(os.path.join(output_folder + f\"{category}.shp\"))\n",
    "    \n",
    "    return None"
   ]
  },
  {
   "cell_type": "code",
   "execution_count": 7,
   "id": "ebc3258d-ec53-4a8e-93c3-8c50186e3b18",
   "metadata": {},
   "outputs": [],
   "source": [
    "struc = generate_binary_structure(2, 2)"
   ]
  },
  {
   "cell_type": "code",
   "execution_count": 8,
   "id": "66ec2afe-3947-44ea-afd5-fae90e7062ad",
   "metadata": {},
   "outputs": [
    {
     "data": {
      "text/plain": [
       "array([[ True,  True,  True],\n",
       "       [ True,  True,  True],\n",
       "       [ True,  True,  True]])"
      ]
     },
     "execution_count": 8,
     "metadata": {},
     "output_type": "execute_result"
    }
   ],
   "source": [
    "struc"
   ]
  },
  {
   "cell_type": "code",
   "execution_count": 5,
   "id": "7a3ed32b-0919-476d-9e60-ca9ba66fad1e",
   "metadata": {},
   "outputs": [],
   "source": [
    "label_components(category=\"Mono_Palm\")"
   ]
  },
  {
   "cell_type": "code",
   "execution_count": 3,
   "id": "64e5b728-9e91-4f62-9c27-225262463473",
   "metadata": {},
   "outputs": [],
   "source": [
    "def min_filter(category,\n",
    "                     input_folder =  '../data/Output/Intermediate/Rasters/',\n",
    "                     output_folder = '../data/Output/Intermediate/Poly/'):\n",
    "    \n",
    "    \"\"\"\n",
    "    applies a minimum filter of 14x14 to the raster\n",
    "    in order to identify eligible sized polygons\n",
    "    \"\"\"\n",
    "    with rs.open(input_folder + f\"{category}.tif\") as src:\n",
    "        image = src.read(1) \n",
    "        crs = src.crs \n",
    "        out_meta = src.meta.copy() \n",
    "        out_meta.update({'compress':'lzw'})\n",
    "\n",
    "        # will return 1 if area fits given size otherwise 0\n",
    "        min_filtered = minimum_filter(image, (14,14))\n",
    "        \n",
    "        print(f\"starting count: {np.unique(image, return_counts=True)}\")\n",
    "        print(f\"post filter count: {np.unique(min_filtered, return_counts=True)}\")\n",
    "\n",
    "    # save min filtered for comparison\n",
    "    with rs.open(input_folder + f\"{category}_cca_test.tif\",'w',**out_meta, BIGTIFF='YES') as dst:\n",
    "        dst.write(min_filtered, indexes=1)\n",
    "        \n",
    "        # Generate polygons from the filtered raster\n",
    "        # shapes converts the filtered raster (min_filtered) \n",
    "        # into a sequence of geometry-value pairs.\n",
    "        # results = (\n",
    "        #     {'properties': {'raster_val': v}, 'geometry': s}\n",
    "        #     for i, (s, v) in enumerate(shapes(arr, transform=src.transform)))\n",
    "        \n",
    "        # Create a GeoDataFrame from the features\n",
    "        # gdf = gpd.GeoDataFrame.from_features(results, crs=crs)\n",
    "        # gdf.to_file(os.path.join(output_folder + f\"{category}.shp\"))\n",
    "        \n",
    "    return None"
   ]
  },
  {
   "cell_type": "code",
   "execution_count": 4,
   "id": "682dc656-9cd5-40db-aabb-105e3df8bbf5",
   "metadata": {},
   "outputs": [
    {
     "name": "stdout",
     "output_type": "stream",
     "text": [
      "starting count: (array([0, 1], dtype=uint8), array([1236217817,    2517451]))\n",
      "post filter count: (array([0, 1], dtype=uint8), array([1237766529,     968739]))\n"
     ]
    }
   ],
   "source": [
    "arr = rastertopoly_new(category=\"Mono_Palm\")"
   ]
  },
  {
   "cell_type": "code",
   "execution_count": 15,
   "id": "9a7d1fdd-c97e-4104-8d6f-8ba5b7187016",
   "metadata": {},
   "outputs": [
    {
     "data": {
      "text/html": [
       "<div>\n",
       "<style scoped>\n",
       "    .dataframe tbody tr th:only-of-type {\n",
       "        vertical-align: middle;\n",
       "    }\n",
       "\n",
       "    .dataframe tbody tr th {\n",
       "        vertical-align: top;\n",
       "    }\n",
       "\n",
       "    .dataframe thead th {\n",
       "        text-align: right;\n",
       "    }\n",
       "</style>\n",
       "<table border=\"1\" class=\"dataframe\">\n",
       "  <thead>\n",
       "    <tr style=\"text-align: right;\">\n",
       "      <th></th>\n",
       "      <th>geometry</th>\n",
       "      <th>raster_val</th>\n",
       "    </tr>\n",
       "  </thead>\n",
       "  <tbody>\n",
       "    <tr>\n",
       "      <th>0</th>\n",
       "      <td>POLYGON ((-83.59910 10.54266, -83.59910 10.542...</td>\n",
       "      <td>1.0</td>\n",
       "    </tr>\n",
       "    <tr>\n",
       "      <th>1</th>\n",
       "      <td>POLYGON ((-83.60696 10.54095, -83.60696 10.540...</td>\n",
       "      <td>1.0</td>\n",
       "    </tr>\n",
       "    <tr>\n",
       "      <th>2</th>\n",
       "      <td>POLYGON ((-83.59783 10.54095, -83.59783 10.540...</td>\n",
       "      <td>1.0</td>\n",
       "    </tr>\n",
       "    <tr>\n",
       "      <th>3</th>\n",
       "      <td>POLYGON ((-83.60193 10.53924, -83.60193 10.539...</td>\n",
       "      <td>1.0</td>\n",
       "    </tr>\n",
       "    <tr>\n",
       "      <th>4</th>\n",
       "      <td>POLYGON ((-83.59856 10.54023, -83.59856 10.540...</td>\n",
       "      <td>1.0</td>\n",
       "    </tr>\n",
       "    <tr>\n",
       "      <th>...</th>\n",
       "      <td>...</td>\n",
       "      <td>...</td>\n",
       "    </tr>\n",
       "    <tr>\n",
       "      <th>1065</th>\n",
       "      <td>POLYGON ((-82.96083 8.40934, -82.96083 8.40925...</td>\n",
       "      <td>1.0</td>\n",
       "    </tr>\n",
       "    <tr>\n",
       "      <th>1066</th>\n",
       "      <td>POLYGON ((-82.96795 8.41087, -82.96795 8.41078...</td>\n",
       "      <td>1.0</td>\n",
       "    </tr>\n",
       "    <tr>\n",
       "      <th>1067</th>\n",
       "      <td>POLYGON ((-82.97389 8.40557, -82.97389 8.40548...</td>\n",
       "      <td>1.0</td>\n",
       "    </tr>\n",
       "    <tr>\n",
       "      <th>1068</th>\n",
       "      <td>POLYGON ((-82.96978 8.40224, -82.96978 8.40170...</td>\n",
       "      <td>1.0</td>\n",
       "    </tr>\n",
       "    <tr>\n",
       "      <th>1069</th>\n",
       "      <td>POLYGON ((-85.94448 11.22218, -85.94448 8.2221...</td>\n",
       "      <td>0.0</td>\n",
       "    </tr>\n",
       "  </tbody>\n",
       "</table>\n",
       "<p>1070 rows × 2 columns</p>\n",
       "</div>"
      ],
      "text/plain": [
       "                                               geometry  raster_val\n",
       "0     POLYGON ((-83.59910 10.54266, -83.59910 10.542...         1.0\n",
       "1     POLYGON ((-83.60696 10.54095, -83.60696 10.540...         1.0\n",
       "2     POLYGON ((-83.59783 10.54095, -83.59783 10.540...         1.0\n",
       "3     POLYGON ((-83.60193 10.53924, -83.60193 10.539...         1.0\n",
       "4     POLYGON ((-83.59856 10.54023, -83.59856 10.540...         1.0\n",
       "...                                                 ...         ...\n",
       "1065  POLYGON ((-82.96083 8.40934, -82.96083 8.40925...         1.0\n",
       "1066  POLYGON ((-82.96795 8.41087, -82.96795 8.41078...         1.0\n",
       "1067  POLYGON ((-82.97389 8.40557, -82.97389 8.40548...         1.0\n",
       "1068  POLYGON ((-82.96978 8.40224, -82.96978 8.40170...         1.0\n",
       "1069  POLYGON ((-85.94448 11.22218, -85.94448 8.2221...         0.0\n",
       "\n",
       "[1070 rows x 2 columns]"
      ]
     },
     "execution_count": 15,
     "metadata": {},
     "output_type": "execute_result"
    }
   ],
   "source": [
    "arr"
   ]
  },
  {
   "cell_type": "code",
   "execution_count": 17,
   "id": "f18fdb60-865e-430c-906b-fe1c5cee3adc",
   "metadata": {},
   "outputs": [],
   "source": [
    "arr.to_file(os.path.join(\"../data/Output/Intermediate/Poly/Mono_Palm_CCA.shp\"))"
   ]
  },
  {
   "cell_type": "code",
   "execution_count": 10,
   "id": "ad11ca83-c6e2-4fc7-a99c-22bc9a84dce4",
   "metadata": {},
   "outputs": [
    {
     "data": {
      "text/plain": [
       "(33372, 37119)"
      ]
     },
     "execution_count": 10,
     "metadata": {},
     "output_type": "execute_result"
    }
   ],
   "source": [
    "arr.shape"
   ]
  },
  {
   "cell_type": "code",
   "execution_count": 11,
   "id": "0ca680c4-74fe-4f56-8977-2d3cbc19f9a9",
   "metadata": {},
   "outputs": [
    {
     "data": {
      "text/plain": [
       "(array([0, 1], dtype=uint8), array([1237766529,     968739]))"
      ]
     },
     "execution_count": 11,
     "metadata": {},
     "output_type": "execute_result"
    }
   ],
   "source": [
    "np.unique(arr, return_counts=True)"
   ]
  },
  {
   "cell_type": "markdown",
   "id": "323177ed-f3af-4652-bc0a-89f29d1fb424",
   "metadata": {},
   "source": [
    "# Extract centroids"
   ]
  },
  {
   "cell_type": "code",
   "execution_count": 2,
   "id": "8b377bce-fc67-405d-8aac-09e3a2fda9d0",
   "metadata": {},
   "outputs": [],
   "source": [
    "hc1 = gpd.read_file('../data/costa_rica/interim/v1/hc_poly_v1.shp')\n",
    "hc2 = gpd.read_file('../data/costa_rica/interim/v2/hc_poly_v2.shp')"
   ]
  },
  {
   "cell_type": "code",
   "execution_count": 3,
   "id": "364612ed-aeda-42ba-b31c-eec77255415b",
   "metadata": {},
   "outputs": [
    {
     "name": "stdout",
     "output_type": "stream",
     "text": [
      "(2194, 9) (151828, 4)\n"
     ]
    }
   ],
   "source": [
    "# to compare \n",
    "hc_pts1 = gpd.read_file('../data/costa_rica/interim/v1/labeled_pts.shp')\n",
    "print(hc1.shape, hc2.shape)"
   ]
  },
  {
   "cell_type": "code",
   "execution_count": 8,
   "id": "ab6ae8cc-3e69-49bd-8fe1-39995dfb4306",
   "metadata": {},
   "outputs": [
    {
     "data": {
      "text/plain": [
       "PClass\n",
       "notplantation    1789\n",
       "monoculture       317\n",
       "agroforestry       88\n",
       "Name: count, dtype: int64"
      ]
     },
     "execution_count": 8,
     "metadata": {},
     "output_type": "execute_result"
    }
   ],
   "source": [
    "hc1.PClass.value_counts()"
   ]
  },
  {
   "cell_type": "code",
   "execution_count": 5,
   "id": "0f65e48b-fa8d-4edc-b054-4853a1475a13",
   "metadata": {},
   "outputs": [
    {
     "data": {
      "text/plain": [
       "label\n",
       "3    131878\n",
       "0     17017\n",
       "1      2688\n",
       "2       245\n",
       "Name: count, dtype: int64"
      ]
     },
     "execution_count": 5,
     "metadata": {},
     "output_type": "execute_result"
    }
   ],
   "source": [
    "hc2.label.value_counts()"
   ]
  }
 ],
 "metadata": {
  "kernelspec": {
   "display_name": "Python [conda env:label] *",
   "language": "python",
   "name": "conda-env-label-py"
  },
  "language_info": {
   "codemirror_mode": {
    "name": "ipython",
    "version": 3
   },
   "file_extension": ".py",
   "mimetype": "text/x-python",
   "name": "python",
   "nbconvert_exporter": "python",
   "pygments_lexer": "ipython3",
   "version": "3.9.18"
  }
 },
 "nbformat": 4,
 "nbformat_minor": 5
}
