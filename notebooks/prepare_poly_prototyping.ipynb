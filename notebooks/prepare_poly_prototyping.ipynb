{
 "cells": [
  {
   "cell_type": "code",
   "execution_count": 1,
   "id": "da3ef2fb-4d21-4720-a6e5-214c3d46402e",
   "metadata": {},
   "outputs": [],
   "source": [
    "import pprint\n",
    "from datetime import datetime\n",
    "import pandas as pd\n",
    "import os\n",
    "import rasterio as rs\n",
    "from rasterio.features import shapes\n",
    "import geopandas as gpd\n",
    "import numpy as np\n",
    "from scipy.ndimage import label, sum as ndi_sum\n",
    "import subprocess\n",
    "import yaml\n",
    "from osgeo import gdal\n",
    "from osgeo import osr\n",
    "from osgeo import ogr\n",
    "from osgeo import gdalconst\n",
    "import sys\n",
    "from scipy import ndimage\n",
    "sys.path.append('../src/')\n",
    "# import prepare_rasters as pr\n",
    "import prepare_polys as pp\n",
    "import prepare_rasters as pr\n",
    "import prepare_polys_orig as preprocess\n",
    "\n",
    "%load_ext autoreload\n",
    "%autoreload 2"
   ]
  },
  {
   "cell_type": "markdown",
   "id": "e36906a8-cb40-413b-b2f9-825bedba769d",
   "metadata": {},
   "source": [
    "## Prototyping\n",
    "What are the input requirements?\n",
    "1. inputParams\n",
    "2. TTC - these look the same\n",
    "3. lulc 2016 - slightly differently sizes bc of method for resampling/reprj. no use of compression"
   ]
  },
  {
   "cell_type": "code",
   "execution_count": 18,
   "id": "54460519-2b6e-4ee6-84d5-55fd4bcc306b",
   "metadata": {},
   "outputs": [
    {
     "data": {
      "text/plain": [
       "((35683, 37670), (33372, 37119), (33372, 37119))"
      ]
     },
     "execution_count": 18,
     "metadata": {},
     "output_type": "execute_result"
    }
   ],
   "source": [
    "## quick comp of inputs (after preprocessing)\n",
    "j_lulc = rs.open('../data/costa_rica/interim/lulc_cr_reprj.tif').read(1)\n",
    "j_ttc = rs.open('../data/costa_rica/raw/CostaRica.tif').read(1)\n",
    "j_sdpt = rs.open('../data/costa_rica/interim/cri_sdpt_v2.tif').read(1)\n",
    "j_lulc.shape, j_ttc.shape, j_sdpt.shape"
   ]
  },
  {
   "cell_type": "code",
   "execution_count": 3,
   "id": "f4614f95-0771-4cf9-a83d-0b1ee93c743e",
   "metadata": {},
   "outputs": [
    {
     "name": "stdout",
     "output_type": "stream",
     "text": [
      "Creating output file that is 37119P x 33372L.\n",
      "Processing ../data/Input/lulc.tif [1/1] : 0Using internal nodata values (e.g. -1) for image ../data/Input/lulc.tif.\n",
      "Copying nodata values from source ../data/Input/lulc.tif to destination ../data/Input/lulc_reprj.tif.\n",
      "...10...20...30...40...50...60...70...80...90...100 - done.\n"
     ]
    }
   ],
   "source": [
    "preprocess.preprocess_datasets('../data/Input/lulc.tif')"
   ]
  },
  {
   "cell_type": "code",
   "execution_count": 26,
   "id": "5535209d-22a9-4a6e-9f99-f25eee6eb381",
   "metadata": {},
   "outputs": [
    {
     "data": {
      "text/plain": [
       "((33372, 37119), (33372, 37119))"
      ]
     },
     "execution_count": 26,
     "metadata": {},
     "output_type": "execute_result"
    }
   ],
   "source": [
    "e_lulc = rs.open('../data/Input/lulc_reprj.tif').read(1)\n",
    "e_ttc = rs.open('../data/Input/TTC.tif').read(1)\n",
    "e_lulc.shape, e_ttc.shape"
   ]
  },
  {
   "cell_type": "code",
   "execution_count": 28,
   "id": "cce5f899-2a9a-41d5-aa73-00eae158204b",
   "metadata": {},
   "outputs": [
    {
     "data": {
      "text/plain": [
       "2311"
      ]
     },
     "execution_count": 28,
     "metadata": {},
     "output_type": "execute_result"
    }
   ],
   "source": [
    "j_lulc.shape[0] - e_lulc.shape[0]"
   ]
  },
  {
   "cell_type": "code",
   "execution_count": 29,
   "id": "6c2d68ae-bf52-4197-ba5f-a17b2e2c3844",
   "metadata": {},
   "outputs": [
    {
     "data": {
      "text/plain": [
       "551"
      ]
     },
     "execution_count": 29,
     "metadata": {},
     "output_type": "execute_result"
    }
   ],
   "source": [
    "j_lulc.shape[1] - e_lulc.shape[1]"
   ]
  },
  {
   "cell_type": "code",
   "execution_count": 3,
   "id": "197f9d2c-cde5-46c4-8d5f-21e12a6766b2",
   "metadata": {},
   "outputs": [
    {
     "name": "stdout",
     "output_type": "stream",
     "text": [
      "\n",
      " Step 3: Executing classifyRasters function for each unique category:\n",
      "\n",
      "Processing  Mono_Palm :\n",
      "\n",
      "lulc array shape: (33372, 37119)\n",
      "lulc: 20\n",
      "Calculating binary arr for lulc with <function reclassify_by_value at 0x10db024c0>\n",
      "sdpt array shape: (33372, 37119)\n",
      "sdpt: 1.0\n",
      "Calculating binary arr for sdpt with <function reclassify_by_value at 0x10db024c0>\n",
      "ttc array shape: (33372, 37119)\n",
      "ttc: 40\n",
      "Comparison type: greater\n",
      "Calculating binary arr for ttc with <function reclassify_above_threshold at 0x10db02430>\n",
      "Binary list length:  3\n",
      "Array 0 shape: (33372, 37119)\n",
      "Array 1 shape: (33372, 37119)\n",
      "Array 2 shape: (33372, 37119)\n",
      "Multiplying arrays...\n",
      "Processing  Mono_Forest :\n",
      "\n",
      "lulc array shape: (33372, 37119)\n",
      "lulc: 8\n",
      "Calculating binary arr for lulc with <function reclassify_by_value at 0x10db024c0>\n",
      "sdpt array shape: (33372, 37119)\n",
      "sdpt: 2.0\n",
      "Calculating binary arr for sdpt with <function reclassify_by_value at 0x10db024c0>\n",
      "ttc array shape: (33372, 37119)\n",
      "ttc: 80\n",
      "Comparison type: greater\n",
      "Calculating binary arr for ttc with <function reclassify_above_threshold at 0x10db02430>\n",
      "Binary list length:  3\n",
      "Array 0 shape: (33372, 37119)\n",
      "Array 1 shape: (33372, 37119)\n",
      "Array 2 shape: (33372, 37119)\n",
      "Multiplying arrays...\n",
      "Processing  Agro_Coffee :\n",
      "\n",
      "lulc array shape: (33372, 37119)\n",
      "lulc: 23\n",
      "Calculating binary arr for lulc with <function reclassify_by_value at 0x10db024c0>\n",
      "sdpt array shape: (33372, 37119)\n",
      "sdpt: 7215.0\n",
      "Calculating binary arr for sdpt with <function reclassify_by_value at 0x10db024c0>\n",
      "ttc array shape: (33372, 37119)\n",
      "ttc: 30\n",
      "Comparison type: greater\n",
      "Calculating binary arr for ttc with <function reclassify_above_threshold at 0x10db02430>\n",
      "Binary list length:  3\n",
      "Array 0 shape: (33372, 37119)\n",
      "Array 1 shape: (33372, 37119)\n",
      "Array 2 shape: (33372, 37119)\n",
      "Multiplying arrays...\n",
      "Processing  NP_Pineapple :\n",
      "\n",
      "lulc array shape: (33372, 37119)\n",
      "lulc: 22\n",
      "Calculating binary arr for lulc with <function reclassify_by_value at 0x10db024c0>\n",
      "sdpt array shape: (33372, 37119)\n",
      "sdpt: 7215.0\n",
      "Calculating binary arr for sdpt with <function reclassify_by_value at 0x10db024c0>\n",
      "ttc array shape: (33372, 37119)\n",
      "ttc: 5\n",
      "Comparison type: less\n",
      "Calculating binary arr for ttc with <function reclassify_below_threshold at 0x167c9adc0>\n",
      "Binary list length:  3\n",
      "Array 0 shape: (33372, 37119)\n",
      "Array 1 shape: (33372, 37119)\n",
      "Array 2 shape: (33372, 37119)\n",
      "Multiplying arrays...\n",
      "Processing  NP_Mature :\n",
      "\n",
      "lulc array shape: (33372, 37119)\n",
      "lulc: 8\n",
      "Calculating binary arr for lulc with <function reclassify_by_value at 0x10db024c0>\n",
      "sdpt array shape: (33372, 37119)\n",
      "sdpt: nan\n",
      "Skipping, value is NaN\n",
      "\n",
      "ttc array shape: (33372, 37119)\n",
      "ttc: 50\n",
      "Comparison type: greater\n",
      "Calculating binary arr for ttc with <function reclassify_above_threshold at 0x10db02430>\n",
      "Binary list length:  2\n",
      "Array 0 shape: (33372, 37119)\n",
      "Array 1 shape: (33372, 37119)\n",
      "Multiplying arrays...\n",
      "Processing  NP_Urban :\n",
      "\n",
      "lulc array shape: (33372, 37119)\n",
      "lulc: 10\n",
      "Calculating binary arr for lulc with <function reclassify_by_value at 0x10db024c0>\n",
      "sdpt array shape: (33372, 37119)\n",
      "sdpt: nan\n",
      "Skipping, value is NaN\n",
      "\n",
      "ttc array shape: (33372, 37119)\n",
      "ttc: 5\n",
      "Comparison type: less\n",
      "Calculating binary arr for ttc with <function reclassify_below_threshold at 0x167c9adc0>\n",
      "Binary list length:  2\n",
      "Array 0 shape: (33372, 37119)\n",
      "Array 1 shape: (33372, 37119)\n",
      "Multiplying arrays...\n",
      "Processing  NP_Bare :\n",
      "\n",
      "lulc array shape: (33372, 37119)\n",
      "lulc: 9\n",
      "Calculating binary arr for lulc with <function reclassify_by_value at 0x10db024c0>\n",
      "sdpt array shape: (33372, 37119)\n",
      "sdpt: nan\n",
      "Skipping, value is NaN\n",
      "\n",
      "ttc array shape: (33372, 37119)\n",
      "ttc: 5\n",
      "Comparison type: less\n",
      "Calculating binary arr for ttc with <function reclassify_below_threshold at 0x167c9adc0>\n",
      "Binary list length:  2\n",
      "Array 0 shape: (33372, 37119)\n",
      "Array 1 shape: (33372, 37119)\n",
      "Multiplying arrays...\n",
      "Processing  NP_Bare_2 :\n",
      "\n",
      "lulc array shape: (33372, 37119)\n",
      "lulc: 13\n",
      "Calculating binary arr for lulc with <function reclassify_by_value at 0x10db024c0>\n",
      "sdpt array shape: (33372, 37119)\n",
      "sdpt: nan\n",
      "Skipping, value is NaN\n",
      "\n",
      "ttc array shape: (33372, 37119)\n",
      "ttc: 1\n",
      "Comparison type: less\n",
      "Calculating binary arr for ttc with <function reclassify_below_threshold at 0x167c9adc0>\n",
      "Binary list length:  2\n",
      "Array 0 shape: (33372, 37119)\n",
      "Array 1 shape: (33372, 37119)\n",
      "Multiplying arrays...\n",
      "Processing  NP_Mangrove :\n",
      "\n",
      "lulc array shape: (33372, 37119)\n",
      "lulc: 14\n",
      "Calculating binary arr for lulc with <function reclassify_by_value at 0x10db024c0>\n",
      "sdpt array shape: (33372, 37119)\n",
      "sdpt: nan\n",
      "Skipping, value is NaN\n",
      "\n",
      "ttc array shape: (33372, 37119)\n",
      "ttc: 80\n",
      "Comparison type: greater\n",
      "Calculating binary arr for ttc with <function reclassify_above_threshold at 0x10db02430>\n",
      "Binary list length:  2\n",
      "Array 0 shape: (33372, 37119)\n",
      "Array 1 shape: (33372, 37119)\n",
      "Multiplying arrays...\n",
      "\n",
      " Step 4: Converting high confidence rasters to polygons...\n",
      "\n",
      "Processing NP_Urban.tif\n",
      "Processing Mono_Forest.tif\n",
      "Processing Agro_Coffee.tif\n",
      "Processing NP_Mangrove.tif\n",
      "Processing NP_Pineapple.tif\n",
      "Processing NP_Mature.tif\n",
      "Processing NP_Bare.tif\n",
      "Processing NP_Bare_2.tif\n",
      "Processing Mono_Palm.tif\n"
     ]
    }
   ],
   "source": [
    "# in this iteration, the only change \n",
    "pp.create_highconf_polygons(params_path='../data/Input/inputParams.csv',\n",
    "                            lulc_path = '../data/Input/lulc_reprj.tif',\n",
    "                            sdpt_path = '../data/costa_rica/interim/cri_sdpt_v2.tif', \n",
    "                            ttc_path = '../data/Input/TTC.tif'\n",
    "                           )"
   ]
  },
  {
   "cell_type": "code",
   "execution_count": 7,
   "id": "8e0c0867-da5d-4a86-8586-d5c7cb70fa2d",
   "metadata": {},
   "outputs": [
    {
     "name": "stdout",
     "output_type": "stream",
     "text": [
      "\n",
      " Step 5: Getting centroids from polygons...\n",
      "\n",
      "Processing ../data/Output/Intermediate/Poly/Mono_Forest.shp\n",
      "Processing ../data/Output/Intermediate/Poly/Agro_Coffee.shp\n",
      "Processing ../data/Output/Intermediate/Poly/NP_Mangrove.shp\n",
      "Processing ../data/Output/Intermediate/Poly/NP_Urban_2.shp\n",
      "Processing ../data/Output/Intermediate/Poly/NP_Urban.shp\n",
      "Processing ../data/Output/Intermediate/Poly/NP_Pineapple.shp\n",
      "Processing ../data/Output/Intermediate/Poly/NP_Mature.shp\n",
      "Processing ../data/Output/Intermediate/Poly/Mono_Palm.shp\n",
      "Processing ../data/Output/Intermediate/Poly/NP_Bare.shp\n",
      "Processing ../data/Output/Intermediate/Poly/NP_Bare_2.shp\n"
     ]
    },
    {
     "name": "stderr",
     "output_type": "stream",
     "text": [
      "/Users/jessica.ertel/github/label_propagation/notebooks/../src/prepare_polys.py:290: UserWarning: Column names longer than 10 characters will be truncated when saved to ESRI Shapefile.\n",
      "  final_centroids.to_file(output_shapefile_centroids)\n"
     ]
    },
    {
     "name": "stdout",
     "output_type": "stream",
     "text": [
      "\n",
      "All centroids have been saved to ../data/Output/Final/all_centroids.shp\n",
      "All polygons have been merged and saved to ../data/Output/Final/merged_polygons.shp\n",
      "Statistics saved to ../data/Output/Final/stats_jessica.csv\n",
      "\n",
      "           Filename  Number of Polygons  Number of Centroids  Min Size  \\\n",
      "0   Mono_Forest.shp                 141                  141       196   \n",
      "1   Agro_Coffee.shp                  43                   43       196   \n",
      "2   NP_Mangrove.shp                 802                  802       196   \n",
      "3    NP_Urban_2.shp                1351                 1351       196   \n",
      "4      NP_Urban.shp                2739                 2739       196   \n",
      "5  NP_Pineapple.shp                 160                  160       196   \n",
      "6     NP_Mature.shp               26791                26791       196   \n",
      "7     Mono_Palm.shp                 788                  788       196   \n",
      "8       NP_Bare.shp                 945                  945       196   \n",
      "9     NP_Bare_2.shp                  48                   48       196   \n",
      "\n",
      "   Average Size (Hectares)  Variance in Size (Hectares)  \n",
      "0                 9.131900                   509.027243  \n",
      "1                 8.477743                    78.150770  \n",
      "2                32.255481                  6229.810401  \n",
      "3                 8.785404                   952.157454  \n",
      "4                15.216981                  7194.094965  \n",
      "5                20.407513                  1380.918723  \n",
      "6                51.231967                736904.974756  \n",
      "7                31.337067                  4972.277723  \n",
      "8                11.923402                  1328.386387  \n",
      "9                 7.346727                   114.695256  \n"
     ]
    }
   ],
   "source": [
    "# now run to combine output\n",
    "pp.create_highconf_polygons(params_path='../data/Input/inputParams.csv',\n",
    "                            lulc_path = '../data/Input/lulc_reprj.tif',\n",
    "                            sdpt_path = '../data/costa_rica/interim/cri_sdpt_v2.tif', \n",
    "                            ttc_path = '../data/Input/TTC.tif'\n",
    "                           )"
   ]
  },
  {
   "cell_type": "code",
   "execution_count": null,
   "id": "a44a9912-fcb2-432c-8482-4cfc4c7fe499",
   "metadata": {},
   "outputs": [],
   "source": [
    "# get the starting shape of the AF raster\n",
    "# and the count of polygons\n",
    "af_raster = rs.open('../data/Output/Intermediate/Rasters/Agro_Coffee.tif').read(1)\n",
    "af_poly = gpd.read_file('../data/Output/Intermediate/Poly/Agro_Coffee.shp')\n",
    "af_raster.shape, af_poly.shape"
   ]
  },
  {
   "cell_type": "code",
   "execution_count": 34,
   "id": "b88b375a-2a81-48c1-83ee-2b5feed5b3c0",
   "metadata": {},
   "outputs": [
    {
     "data": {
      "text/plain": [
       "(array([0, 1], dtype=uint8), array([1238688044,      47224]))"
      ]
     },
     "execution_count": 34,
     "metadata": {},
     "output_type": "execute_result"
    }
   ],
   "source": [
    "# we know af raster is comprised of 1s and 0s\n",
    "np.unique(af_raster, return_counts=True)"
   ]
  },
  {
   "cell_type": "code",
   "execution_count": 41,
   "id": "f2e0e61b-e4b3-4546-bf89-08dfd209a230",
   "metadata": {},
   "outputs": [],
   "source": [
    "# now label and get count for each label\n",
    "labeled_array, num_features = ndimage.label(af_raster)"
   ]
  },
  {
   "cell_type": "code",
   "execution_count": 42,
   "id": "6e797fef-514f-4c03-954f-20bf8d2a4c97",
   "metadata": {},
   "outputs": [
    {
     "name": "stderr",
     "output_type": "stream",
     "text": [
      "\n",
      "KeyboardInterrupt\n",
      "\n"
     ]
    }
   ],
   "source": [
    "# get pixel count for each label\n",
    "label_size = [(labeled_array == label).sum() for label in range(num_features + 1)]"
   ]
  },
  {
   "cell_type": "code",
   "execution_count": null,
   "id": "7af4801e-b0b8-4513-81c4-3249e3ad3df3",
   "metadata": {},
   "outputs": [],
   "source": [
    "label_size"
   ]
  },
  {
   "cell_type": "code",
   "execution_count": null,
   "id": "28403914-1f1e-41a5-aa3e-b81db46b23eb",
   "metadata": {},
   "outputs": [],
   "source": [
    "thresh = 196"
   ]
  },
  {
   "cell_type": "code",
   "execution_count": null,
   "id": "f775b482-7a17-459f-8d5a-480fc7ec9d7b",
   "metadata": {},
   "outputs": [],
   "source": [
    "for label,size in enumerate(label_size):\n",
    "    if size < thresh:\n",
    "        arr[labeled_array == label] = 0"
   ]
  },
  {
   "cell_type": "code",
   "execution_count": null,
   "id": "55f59bf7-a839-4c3c-9244-b6ff3db5ef07",
   "metadata": {},
   "outputs": [],
   "source": [
    "    filtered_image = image * mask\n",
    "\n",
    "    results = (\n",
    "        {'properties': {'raster_val': v}, 'geometry': s}\n",
    "        for i, (s, v) in enumerate(shapes(filtered_image,\n",
    "                                        mask=filtered_image, \n",
    "                                        transform=src.transform))\n",
    "                                        )\n",
    "\n",
    "    geoms = list(results)\n",
    "    if geoms:\n",
    "        gdf = gpd.GeoDataFrame.from_features(geoms)\n",
    "        gdf.crs = crs  # set the CRS for the GeoDataFrame\n",
    "        gdf.to_file(os.path.join(output_folder, filename.replace('.tif', '.shp')))"
   ]
  }
 ],
 "metadata": {
  "kernelspec": {
   "display_name": "Python [conda env:label] *",
   "language": "python",
   "name": "conda-env-label-py"
  },
  "language_info": {
   "codemirror_mode": {
    "name": "ipython",
    "version": 3
   },
   "file_extension": ".py",
   "mimetype": "text/x-python",
   "name": "python",
   "nbconvert_exporter": "python",
   "pygments_lexer": "ipython3",
   "version": "3.9.18"
  }
 },
 "nbformat": 4,
 "nbformat_minor": 5
}
